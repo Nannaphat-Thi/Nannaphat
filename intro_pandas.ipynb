{
  "nbformat": 4,
  "nbformat_minor": 0,
  "metadata": {
    "date": 1596739276.3386528,
    "filename": "intro.rst",
    "kernelspec": {
      "display_name": "Python",
      "language": "python3",
      "name": "python3"
    },
    "next_doc": {
      "link": "basics",
      "title": "Basic Functionality"
    },
    "prev_doc": {
      "link": "index",
      "title": "pandas"
    },
    "title": "Introduction",
    "colab": {
      "name": "intro_pandas.ipynb",
      "provenance": [],
      "include_colab_link": true
    }
  },
  "cells": [
    {
      "cell_type": "markdown",
      "metadata": {
        "id": "view-in-github",
        "colab_type": "text"
      },
      "source": [
        "<a href=\"https://colab.research.google.com/github/Nannaphat-Thi/Nannaphat/blob/main/intro_pandas.ipynb\" target=\"_parent\"><img src=\"https://colab.research.google.com/assets/colab-badge.svg\" alt=\"Open In Colab\"/></a>"
      ]
    },
    {
      "cell_type": "markdown",
      "metadata": {
        "id": "CDXiITm6fXY3"
      },
      "source": [
        "# Introduction\n",
        "\n",
        "**Prerequisites**\n",
        "\n",
        "- [Python Fundamentals](https://datascience.quantecon.org/../python_fundamentals/index.html)  \n",
        "\n",
        "\n",
        "**Outcomes**\n",
        "\n",
        "- Understand the core pandas objects (`Series` and `DataFrame`)  \n",
        "- Index into particular elements of a Series and DataFrame  \n",
        "- Understand what `.dtype`/`.dtypes` do  \n",
        "- Make basic visualizations  \n",
        "\n",
        "\n",
        "**Data**\n",
        "\n",
        "- US regional unemployment data from Bureau of Labor Statistics  "
      ]
    },
    {
      "cell_type": "markdown",
      "metadata": {
        "id": "1sBJ0QNOfXY-"
      },
      "source": [
        "## Outline\n",
        "\n",
        "- [Introduction](#Introduction)  \n",
        "  - [pandas](#pandas)  \n",
        "  - [Series](#Series)  \n",
        "  - [DataFrame](#DataFrame)  \n",
        "  - [Data Types](#Data-Types)  \n",
        "  - [Changing DataFrames](#Changing-DataFrames)  \n",
        "  - [Exercises](#Exercises)  "
      ]
    },
    {
      "cell_type": "code",
      "metadata": {
        "hide-output": false,
        "id": "xcOa94B5fXY_"
      },
      "source": [
        "# Uncomment following line to install on colab\n",
        "#! pip install qeds"
      ],
      "execution_count": null,
      "outputs": []
    },
    {
      "cell_type": "markdown",
      "metadata": {
        "id": "ZFG12BAnfXZG"
      },
      "source": [
        "## pandas\n",
        "\n",
        "This lecture begins the material on `pandas`.\n",
        "\n",
        "To start, we will import the pandas package and give it the alias\n",
        "`pd`, which is conventional practice."
      ]
    },
    {
      "cell_type": "code",
      "metadata": {
        "hide-output": false,
        "id": "4wfgDQTEfXZH"
      },
      "source": [
        "import pandas as pd\n",
        "\n",
        "# Don't worry about this line for now!\n",
        "%matplotlib inline\n",
        "# activate plot theme\n",
        "import qeds\n",
        "qeds.themes.mpl_style();"
      ],
      "execution_count": null,
      "outputs": []
    },
    {
      "cell_type": "markdown",
      "metadata": {
        "id": "oMGLBrAxfXZI"
      },
      "source": [
        "Sometimes, knowing which pandas version we are\n",
        "using is helpful.\n",
        "\n",
        "We can check this by running the code below."
      ]
    },
    {
      "cell_type": "code",
      "metadata": {
        "hide-output": false,
        "id": "WrH--bbHfXZK"
      },
      "source": [
        "pd.__version__"
      ],
      "execution_count": null,
      "outputs": []
    },
    {
      "cell_type": "markdown",
      "metadata": {
        "id": "JJb7sy6CfXZK"
      },
      "source": [
        "## Series\n",
        "\n",
        "The first main pandas type we will introduce is called Series.\n",
        "\n",
        "A Series is a single column of data, with row labels for each\n",
        "observation.\n",
        "\n",
        "pandas refers to the row labels as the *index* of the Series.\n",
        "\n",
        "![https://datascience.quantecon.org/assets/_static/intro_files/PandasSeries.png](https://datascience.quantecon.org/assets/_static/intro_files/PandasSeries.png)  \n",
        "Below, we create a Series which contains the US unemployment rate every\n",
        "other year starting in 1995."
      ]
    },
    {
      "cell_type": "code",
      "metadata": {
        "hide-output": false,
        "id": "Ddimgl8nfXZL"
      },
      "source": [
        "values = [5.6, 5.3, 4.3, 4.2, 5.8, 5.3, 4.6, 7.8, 9.1, 8., 5.7]\n",
        "years = list(range(1995, 2017, 2))\n",
        "\n",
        "unemp = pd.Series(data=values, index=years, name=\"Unemployment\")"
      ],
      "execution_count": null,
      "outputs": []
    },
    {
      "cell_type": "code",
      "metadata": {
        "hide-output": false,
        "id": "tZVw6P1ufXZL"
      },
      "source": [
        "unemp"
      ],
      "execution_count": null,
      "outputs": []
    },
    {
      "cell_type": "markdown",
      "metadata": {
        "id": "31RtAa8PfXZL"
      },
      "source": [
        "We can look at the index and values in our Series."
      ]
    },
    {
      "cell_type": "code",
      "metadata": {
        "hide-output": false,
        "id": "lB2uLZOgfXZM"
      },
      "source": [
        "unemp.index"
      ],
      "execution_count": null,
      "outputs": []
    },
    {
      "cell_type": "code",
      "metadata": {
        "hide-output": false,
        "id": "GX9M3TSvfXZM"
      },
      "source": [
        "unemp.values"
      ],
      "execution_count": null,
      "outputs": []
    },
    {
      "cell_type": "markdown",
      "metadata": {
        "id": "-0hU7711fXZM"
      },
      "source": [
        "### What Can We Do with a Series object?"
      ]
    },
    {
      "cell_type": "markdown",
      "metadata": {
        "id": "N-zKWGv_fXZM"
      },
      "source": [
        "#### `.head` and `.tail`\n",
        "\n",
        "Often, our data will have many rows, and we won’t want to display it all\n",
        "at once.\n",
        "\n",
        "The methods `.head` and `.tail` show rows at the beginning and end\n",
        "of our Series, respectively."
      ]
    },
    {
      "cell_type": "code",
      "metadata": {
        "hide-output": false,
        "id": "A7YCNpwtfXZN"
      },
      "source": [
        "unemp.head()"
      ],
      "execution_count": null,
      "outputs": []
    },
    {
      "cell_type": "code",
      "metadata": {
        "hide-output": false,
        "id": "IIzQbAo3fXZN"
      },
      "source": [
        "unemp.tail()"
      ],
      "execution_count": null,
      "outputs": []
    },
    {
      "cell_type": "markdown",
      "metadata": {
        "id": "iKbSAKcIfXZN"
      },
      "source": [
        "#### Basic Plotting\n",
        "\n",
        "We can also plot data using the `.plot` method."
      ]
    },
    {
      "cell_type": "code",
      "metadata": {
        "hide-output": false,
        "id": "dAVt5CvNfXZO"
      },
      "source": [
        "unemp.plot()"
      ],
      "execution_count": null,
      "outputs": []
    },
    {
      "cell_type": "markdown",
      "metadata": {
        "id": "4YHMPHxofXZO"
      },
      "source": [
        ">**Note**\n",
        ">\n",
        ">This is why we needed the `%matplotlib inline` — it tells the notebook\n",
        "to display figures inside the notebook itself. Also, pandas has much greater visualization functionality than this, but we will study that later on."
      ]
    },
    {
      "cell_type": "markdown",
      "metadata": {
        "id": "y2S6fL5FfXZO"
      },
      "source": [
        "#### Unique Values\n",
        "\n",
        "Though it doesn’t make sense in this data set, we may want to find the\n",
        "unique values in a Series – which can be done with the `.unique` method."
      ]
    },
    {
      "cell_type": "code",
      "metadata": {
        "hide-output": false,
        "id": "ofXQdDHFfXZO"
      },
      "source": [
        "unemp.unique()"
      ],
      "execution_count": null,
      "outputs": []
    },
    {
      "cell_type": "markdown",
      "metadata": {
        "id": "r05d64vtfXZP"
      },
      "source": [
        "#### Indexing\n",
        "\n",
        "Sometimes, we will want to select particular elements from a Series.\n",
        "\n",
        "We can do this using `.loc[index_items]`; where `index_items` is\n",
        "an item from the index, or a list of items in the index.\n",
        "\n",
        "We will see this more in-depth in a coming lecture, but for now, we\n",
        "demonstrate how to select one or multiple elements of the Series."
      ]
    },
    {
      "cell_type": "code",
      "metadata": {
        "hide-output": false,
        "id": "fysNWTB0fXZP"
      },
      "source": [
        "unemp.loc[1995]"
      ],
      "execution_count": null,
      "outputs": []
    },
    {
      "cell_type": "code",
      "metadata": {
        "hide-output": false,
        "id": "jpv4GvthfXZP"
      },
      "source": [
        "unemp.loc[[1995, 2005, 2015]]"
      ],
      "execution_count": null,
      "outputs": []
    },
    {
      "cell_type": "markdown",
      "metadata": {
        "id": "cujWNd4AfXZQ"
      },
      "source": [
        "\n",
        "<a id='exercise-0'></a>\n",
        "> See exercise 1 in the [*exercise list*](https://datascience.quantecon.org/#exerciselist-0)"
      ]
    },
    {
      "cell_type": "markdown",
      "metadata": {
        "id": "HobuupIqfXZQ"
      },
      "source": [
        "## DataFrame\n",
        "\n",
        "A DataFrame is how pandas stores one or more columns of data.\n",
        "\n",
        "We can think a DataFrames a multiple Series stacked side by side as\n",
        "columns.\n",
        "\n",
        "This is similar to a sheet in an Excel workbook or a table in a SQL\n",
        "database.\n",
        "\n",
        "In addition to row labels (an index), DataFrames also have column labels.\n",
        "\n",
        "We refer to these column labels as the columns or column names.\n",
        "\n",
        "![https://datascience.quantecon.org/assets/_static/intro_files/PandasDataFrame.png](https://datascience.quantecon.org/assets/_static/intro_files/PandasDataFrame.png)  \n",
        "Below, we create a DataFrame that contains the unemployment rate every\n",
        "other year by region of the US starting in 1995."
      ]
    },
    {
      "cell_type": "code",
      "metadata": {
        "hide-output": false,
        "id": "5xakirkufXZQ"
      },
      "source": [
        "data = {\n",
        "    \"NorthEast\": [5.9,  5.6,  4.4,  3.8,  5.8,  4.9,  4.3,  7.1,  8.3,  7.9,  5.7],\n",
        "    \"MidWest\": [4.5,  4.3,  3.6,  4. ,  5.7,  5.7,  4.9,  8.1,  8.7,  7.4,  5.1],\n",
        "    \"South\": [5.3,  5.2,  4.2,  4. ,  5.7,  5.2,  4.3,  7.6,  9.1,  7.4,  5.5],\n",
        "    \"West\": [6.6, 6., 5.2, 4.6, 6.5, 5.5, 4.5, 8.6, 10.7, 8.5, 6.1],\n",
        "    \"National\": [5.6, 5.3, 4.3, 4.2, 5.8, 5.3, 4.6, 7.8, 9.1, 8., 5.7]\n",
        "}\n",
        "\n",
        "unemp_region = pd.DataFrame(data, index=years)\n",
        "unemp_region"
      ],
      "execution_count": null,
      "outputs": []
    },
    {
      "cell_type": "markdown",
      "metadata": {
        "id": "fcMQwQU_fXZR"
      },
      "source": [
        "We can retrieve the index and the DataFrame values as we\n",
        "did with a Series."
      ]
    },
    {
      "cell_type": "code",
      "metadata": {
        "hide-output": false,
        "id": "-lxDpnMTfXZR"
      },
      "source": [
        "unemp_region.index"
      ],
      "execution_count": null,
      "outputs": []
    },
    {
      "cell_type": "code",
      "metadata": {
        "hide-output": false,
        "id": "jfGI_4Q9fXZR"
      },
      "source": [
        "unemp_region.values"
      ],
      "execution_count": null,
      "outputs": []
    },
    {
      "cell_type": "markdown",
      "metadata": {
        "id": "11tRHpzMfXZR"
      },
      "source": [
        "### What Can We Do with a DataFrame?\n",
        "\n",
        "Pretty much everything we can do with a Series."
      ]
    },
    {
      "cell_type": "markdown",
      "metadata": {
        "id": "jzpi2d4AfXZS"
      },
      "source": [
        "#### `.head` and `.tail`\n",
        "\n",
        "As with Series, we can use `.head` and `.tail` to show only the\n",
        "first or last `n` rows."
      ]
    },
    {
      "cell_type": "code",
      "metadata": {
        "hide-output": false,
        "id": "O3mkyHxofXZS"
      },
      "source": [
        "unemp_region.head()"
      ],
      "execution_count": null,
      "outputs": []
    },
    {
      "cell_type": "code",
      "metadata": {
        "hide-output": false,
        "id": "4JQb5oznfXZS"
      },
      "source": [
        "unemp_region.tail(3)"
      ],
      "execution_count": null,
      "outputs": []
    },
    {
      "cell_type": "markdown",
      "metadata": {
        "id": "-9w2wV7MfXZT"
      },
      "source": [
        "#### Plotting\n",
        "\n",
        "We can generate plots with the `.plot` method.\n",
        "\n",
        "Notice we now have a separate line for each column of data."
      ]
    },
    {
      "cell_type": "code",
      "metadata": {
        "hide-output": false,
        "id": "WAzZpPtMfXZT"
      },
      "source": [
        "unemp_region.plot()"
      ],
      "execution_count": null,
      "outputs": []
    },
    {
      "cell_type": "markdown",
      "metadata": {
        "id": "HdiwirC8fXZT"
      },
      "source": [
        "#### Indexing\n",
        "\n",
        "We can also do indexing using `.loc`.\n",
        "\n",
        "This is slightly more advanced than before because we can choose\n",
        "subsets of both row and columns."
      ]
    },
    {
      "cell_type": "code",
      "metadata": {
        "hide-output": false,
        "id": "7uthUwgLfXZT"
      },
      "source": [
        "unemp_region.loc[1995, \"NorthEast\"]"
      ],
      "execution_count": null,
      "outputs": []
    },
    {
      "cell_type": "code",
      "metadata": {
        "hide-output": false,
        "id": "nHf5t8UKfXZU"
      },
      "source": [
        "unemp_region.loc[[1995, 2005], \"South\"]"
      ],
      "execution_count": null,
      "outputs": []
    },
    {
      "cell_type": "code",
      "metadata": {
        "hide-output": false,
        "id": "QOdBKrjUfXZU"
      },
      "source": [
        "unemp_region.loc[1995, [\"NorthEast\", \"National\"]]"
      ],
      "execution_count": null,
      "outputs": []
    },
    {
      "cell_type": "code",
      "metadata": {
        "hide-output": false,
        "id": "MAHj2tuRfXZU"
      },
      "source": [
        "unemp_region.loc[:, \"NorthEast\"]"
      ],
      "execution_count": null,
      "outputs": []
    },
    {
      "cell_type": "code",
      "metadata": {
        "hide-output": false,
        "id": "_J8Rt-izfXZU"
      },
      "source": [
        "# `[string]` with no `.loc` extracts a whole column\n",
        "unemp_region[\"MidWest\"]"
      ],
      "execution_count": null,
      "outputs": []
    },
    {
      "cell_type": "markdown",
      "metadata": {
        "id": "_hasWjhifXZV"
      },
      "source": [
        "### Computations with Columns\n",
        "\n",
        "pandas can do various computations and mathematical operations on\n",
        "columns.\n",
        "\n",
        "Let’s take a look at a few of them."
      ]
    },
    {
      "cell_type": "code",
      "metadata": {
        "hide-output": false,
        "id": "SZbdmpbzfXZV"
      },
      "source": [
        "# Divide by 100 to move from percent units to a rate\n",
        "unemp_region[\"West\"] / 100"
      ],
      "execution_count": null,
      "outputs": []
    },
    {
      "cell_type": "code",
      "metadata": {
        "hide-output": false,
        "id": "---szGayfXZV"
      },
      "source": [
        "# Find maximum\n",
        "unemp_region[\"West\"].max()"
      ],
      "execution_count": null,
      "outputs": []
    },
    {
      "cell_type": "code",
      "metadata": {
        "hide-output": false,
        "id": "B-8JfbXSfXZV"
      },
      "source": [
        "# Find the difference between two columns\n",
        "# Notice that pandas applies `-` to _all rows_ at once\n",
        "# We'll see more of this throughout these materials\n",
        "unemp_region[\"West\"] - unemp_region[\"MidWest\"]"
      ],
      "execution_count": null,
      "outputs": []
    },
    {
      "cell_type": "code",
      "metadata": {
        "hide-output": false,
        "id": "ZjYW-h8cfXZV"
      },
      "source": [
        "# Find correlation between two columns\n",
        "unemp_region.West.corr(unemp_region[\"MidWest\"])"
      ],
      "execution_count": null,
      "outputs": []
    },
    {
      "cell_type": "code",
      "metadata": {
        "hide-output": false,
        "id": "aMS928wsfXZW"
      },
      "source": [
        "# find correlation between all column pairs\n",
        "unemp_region.corr()"
      ],
      "execution_count": null,
      "outputs": []
    },
    {
      "cell_type": "markdown",
      "metadata": {
        "id": "Y8gC-fizfXZW"
      },
      "source": [
        "\n",
        "<a id='exercise-1'></a>\n",
        "> See exercise 2 in the [*exercise list*](https://datascience.quantecon.org/#exerciselist-0)"
      ]
    },
    {
      "cell_type": "markdown",
      "metadata": {
        "id": "ZIfw6tcqfXZW"
      },
      "source": [
        "## Data Types\n",
        "\n",
        "We asked you to run the commands `unemp.dtype` and\n",
        "`unemp_region.dtypes` and think about the outputs.\n",
        "\n",
        "You might have guessed that they return the type of the values inside\n",
        "each column.\n",
        "\n",
        "Occasionally, you might need to investigate what types you have in your\n",
        "DataFrame when an operation isn’t behaving as expected."
      ]
    },
    {
      "cell_type": "code",
      "metadata": {
        "hide-output": false,
        "id": "n6kLcDlZfXZW"
      },
      "source": [
        "unemp.dtype"
      ],
      "execution_count": null,
      "outputs": []
    },
    {
      "cell_type": "code",
      "metadata": {
        "hide-output": false,
        "id": "ELHpFTtefXZW"
      },
      "source": [
        "unemp_region.dtypes"
      ],
      "execution_count": null,
      "outputs": []
    },
    {
      "cell_type": "markdown",
      "metadata": {
        "id": "zuOXPJqYfXZW"
      },
      "source": [
        "DataFrames will only distinguish between a few types.\n",
        "\n",
        "- Booleans (`bool`)  \n",
        "- Floating point numbers (`float64`)  \n",
        "- Integers (`int64`)  \n",
        "- Dates (`datetime`) — we will learn this soon  \n",
        "- Categorical data (`categorical`)  \n",
        "- Everything else, including strings (`object`)  \n",
        "\n",
        "\n",
        "In the future, we will often refer to the type of data stored in a\n",
        "column as its `dtype`.\n",
        "\n",
        "Let’s look at an example for when having an incorrect `dtype` can\n",
        "cause problems.\n",
        "\n",
        "Suppose that when we imported the data the `South` column was\n",
        "interpreted as a string."
      ]
    },
    {
      "cell_type": "code",
      "metadata": {
        "hide-output": false,
        "id": "2USvuIzXfXZX"
      },
      "source": [
        "str_unemp = unemp_region.copy()\n",
        "str_unemp[\"South\"] = str_unemp[\"South\"].astype(str)\n",
        "str_unemp.dtypes"
      ],
      "execution_count": null,
      "outputs": []
    },
    {
      "cell_type": "markdown",
      "metadata": {
        "id": "1FFbtkwofXZX"
      },
      "source": [
        "Everything *looks* ok…"
      ]
    },
    {
      "cell_type": "code",
      "metadata": {
        "hide-output": false,
        "id": "uQ003zDffXZX"
      },
      "source": [
        "str_unemp.head()"
      ],
      "execution_count": null,
      "outputs": []
    },
    {
      "cell_type": "markdown",
      "metadata": {
        "id": "_HM_X0wWfXZX"
      },
      "source": [
        "But if we try to do something like compute the sum of all the columns,\n",
        "we get unexpected results…"
      ]
    },
    {
      "cell_type": "code",
      "metadata": {
        "hide-output": false,
        "id": "AW8yf-_jfXZY"
      },
      "source": [
        "str_unemp.sum()"
      ],
      "execution_count": null,
      "outputs": []
    },
    {
      "cell_type": "markdown",
      "metadata": {
        "id": "zLnU5zTFfXZY"
      },
      "source": [
        "This happened because `.sum` effectively calls `+` on all rows in\n",
        "each column.\n",
        "\n",
        "Recall that when we apply `+` to two strings, the result is the two\n",
        "strings concatenated.\n",
        "\n",
        "So, in this case, we saw that the entries in all rows of the South\n",
        "column were stitched together into one long string."
      ]
    },
    {
      "cell_type": "markdown",
      "metadata": {
        "id": "KSHDCiFNfXZY"
      },
      "source": [
        "## Changing DataFrames\n",
        "\n",
        "We can change the data inside of a DataFrame in various ways:\n",
        "\n",
        "- Adding new columns  \n",
        "- Changing index labels or column names  \n",
        "- Altering existing data (e.g. doing some arithmetic or making a column\n",
        "  of strings lowercase)  \n",
        "\n",
        "\n",
        "Some of these “mutations” will be topics of future lectures, so we will\n",
        "only briefly discuss a few of the things we can do below."
      ]
    },
    {
      "cell_type": "markdown",
      "metadata": {
        "id": "_YfOPXWYfXZY"
      },
      "source": [
        "### Creating New Columns\n",
        "\n",
        "We can create new data by assigning values to a column similar to how\n",
        "we assign values to a variable.\n",
        "\n",
        "In pandas, we create a new column of a DataFrame by writing:"
      ]
    },
    {
      "cell_type": "markdown",
      "metadata": {
        "hide-output": false,
        "id": "7H0zMZkafXZZ"
      },
      "source": [
        "```python\n",
        "df[\"New Column Name\"] = new_values\n",
        "```\n"
      ]
    },
    {
      "cell_type": "markdown",
      "metadata": {
        "id": "sA_uw7ApfXZZ"
      },
      "source": [
        "Below, we create an unweighted mean of the unemployment rate across the\n",
        "four regions of the US — notice that this differs from the national\n",
        "unemployment rate."
      ]
    },
    {
      "cell_type": "code",
      "metadata": {
        "hide-output": false,
        "id": "ki98oay0fXZa"
      },
      "source": [
        "unemp_region[\"UnweightedMean\"] = (unemp_region[\"NorthEast\"] +\n",
        "                                  unemp_region[\"MidWest\"] +\n",
        "                                  unemp_region[\"South\"] +\n",
        "                                  unemp_region[\"West\"])/4"
      ],
      "execution_count": null,
      "outputs": []
    },
    {
      "cell_type": "code",
      "metadata": {
        "hide-output": false,
        "id": "BQq4e0QEfXZa"
      },
      "source": [
        "unemp_region.head()"
      ],
      "execution_count": null,
      "outputs": []
    },
    {
      "cell_type": "markdown",
      "metadata": {
        "id": "lrfNM6XDfXZb"
      },
      "source": [
        "### Changing Values\n",
        "\n",
        "Changing the values inside of a DataFrame should be done sparingly.\n",
        "\n",
        "However, it can be done by assigning a value to a location in the\n",
        "DataFrame.\n",
        "\n",
        "`df.loc[index, column] = value`"
      ]
    },
    {
      "cell_type": "code",
      "metadata": {
        "hide-output": false,
        "id": "SOX12i9pfXZb"
      },
      "source": [
        "unemp_region.loc[1995, \"UnweightedMean\"] = 0.0"
      ],
      "execution_count": null,
      "outputs": []
    },
    {
      "cell_type": "code",
      "metadata": {
        "hide-output": false,
        "id": "UnwOFNknfXZd"
      },
      "source": [
        "unemp_region.head()"
      ],
      "execution_count": null,
      "outputs": []
    },
    {
      "cell_type": "markdown",
      "metadata": {
        "id": "xJB4ZilmfXZe"
      },
      "source": [
        "### Renaming Columns\n",
        "\n",
        "We can also rename the columns of a DataFrame, which is helpful because the names that sometimes come with datasets are\n",
        "unbearable…\n",
        "\n",
        "For example, the original name for the North East unemployment rate\n",
        "given by the Bureau of Labor Statistics was `LASRD910000000000003`…\n",
        "\n",
        "They have their reasons for using these names, but it can make our job\n",
        "difficult since we often need to type it repeatedly.\n",
        "\n",
        "We can rename columns by passing a dictionary to the `rename` method.\n",
        "\n",
        "This dictionary contains the old names as the keys and new names as the\n",
        "values.\n",
        "\n",
        "See the example below."
      ]
    },
    {
      "cell_type": "code",
      "metadata": {
        "hide-output": false,
        "id": "teZJ79uMfXZi"
      },
      "source": [
        "names = {\"NorthEast\": \"NE\",\n",
        "         \"MidWest\": \"MW\",\n",
        "         \"South\": \"S\",\n",
        "         \"West\": \"W\"}\n",
        "unemp_region.rename(columns=names)"
      ],
      "execution_count": null,
      "outputs": []
    },
    {
      "cell_type": "code",
      "metadata": {
        "hide-output": false,
        "id": "iAJTBi9qfXZj"
      },
      "source": [
        "unemp_region.head()"
      ],
      "execution_count": null,
      "outputs": []
    },
    {
      "cell_type": "markdown",
      "metadata": {
        "id": "dy7K4nK1fXZj"
      },
      "source": [
        "We renamed our columns… Why does the DataFrame still show the old\n",
        "column names?\n",
        "\n",
        "Many pandas operations create a copy of your data by\n",
        "default to protect your data and prevent you from overwriting\n",
        "information you meant to keep.\n",
        "\n",
        "We can make these operations permanent by either:\n",
        "\n",
        "1. Assigning the output back to the variable name\n",
        "  `df = df.rename(columns=rename_dict)`  \n",
        "1. Looking into whether the method has an `inplace` option. For\n",
        "  example, `df.rename(columns=rename_dict, inplace=True)`  \n",
        "\n",
        "\n",
        "Setting `inplace=True` will sometimes make your code faster\n",
        "(e.g. if you have a very large DataFrame and you don’t want to copy all\n",
        "the data), but that doesn’t always happen.\n",
        "\n",
        "We recommend using the first option until you get comfortable with\n",
        "pandas because operations that don’t alter your data are (usually)\n",
        "safer."
      ]
    },
    {
      "cell_type": "code",
      "metadata": {
        "hide-output": false,
        "id": "eakGO8XsfXZj"
      },
      "source": [
        "names = {\"NorthEast\": \"NE\",\n",
        "         \"MidWest\": \"MW\",\n",
        "         \"South\": \"S\",\n",
        "         \"West\": \"W\"}\n",
        "\n",
        "unemp_shortname = unemp_region.rename(columns=names)\n",
        "unemp_shortname.head()"
      ],
      "execution_count": null,
      "outputs": []
    },
    {
      "cell_type": "markdown",
      "metadata": {
        "id": "-I990R9XfXZj"
      },
      "source": [
        "## Exercises\n",
        "\n",
        "\n",
        "<a id='exerciselist-0'></a>\n",
        "**Exercise 1**\n",
        "\n",
        "For each of the following exercises, we recommend reading the documentation\n",
        "for help.\n",
        "\n",
        "- Display only the first 2 elements of the Series using the `.head` method.  \n",
        "- Using the `plot` method, make a bar plot.  \n",
        "- Use `.loc` to select the lowest/highest unemployment rate shown in the Series.  \n",
        "- Run the code `unemp.dtype` below. What does it give you? Where do you think it comes from?  \n",
        "\n",
        "\n",
        "([*back to text*](https://datascience.quantecon.org/#exercise-0))\n",
        "\n",
        "**Exercise 2**\n",
        "\n",
        "For each of the following, we recommend reading the documentation for help.\n",
        "\n",
        "- Use introspection (or google-fu) to find a way to obtain a list with\n",
        "  all of the column names in `unemp_region`.  \n",
        "- Using the `plot` method, make a bar plot. What does it look like\n",
        "  now?  \n",
        "- Use `.loc` to select the the unemployment data for the\n",
        "  `NorthEast` and `West` for the years 1995, 2005, 2011, and 2015.  \n",
        "- Run the code `unemp_region.dtypes` below. What does it give you?\n",
        "  How does this compare with `unemp.dtype`?  \n",
        "\n",
        "\n",
        "([*back to text*](https://datascience.quantecon.org/#exercise-1))"
      ]
    }
  ]
}